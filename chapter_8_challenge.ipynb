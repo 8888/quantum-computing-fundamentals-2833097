{
 "cells": [
  {
   "cell_type": "code",
   "execution_count": 1,
   "metadata": {},
   "outputs": [],
   "source": [
    "from qiskit import *\n",
    "from qiskit.tools.visualization import plot_histogram\n",
    "%matplotlib inline"
   ]
  },
  {
   "cell_type": "code",
   "execution_count": 2,
   "metadata": {},
   "outputs": [
    {
     "data": {
      "image/png": "[encoded data removed]",
      "text/plain": [
       "<Figure size 1123.61x367.889 with 1 Axes>"
      ]
     },
     "execution_count": 2,
     "metadata": {},
     "output_type": "execute_result"
    }
   ],
   "source": [
    "# quantum teleportation circuit using deferred measurement\n",
    "circuit = QuantumCircuit(3, 1)\n",
    "\n",
    "# initialize Olivia's qubit (quantum state to teleport)\n",
    "circuit.h(2)\n",
    "circuit.barrier()\n",
    "\n",
    "# create Bell state pair\n",
    "circuit.h(1)\n",
    "circuit.cx(1, 0)\n",
    "circuit.barrier()\n",
    "\n",
    "# Olivia performs Bell state measurement\n",
    "circuit.cx(2, 1)\n",
    "circuit.h(2)\n",
    "circuit.barrier()\n",
    "\n",
    "# apply conditional operations on Barron's qubit\n",
    "circuit.cx(1, 0)\n",
    "circuit.cz(2, 0)\n",
    "circuit.barrier()\n",
    "\n",
    "# measure Barron's destination qubit\n",
    "circuit.measure(0, 0)\n",
    "\n",
    "circuit.draw(output='mpl')"
   ]
  },
  {
   "cell_type": "code",
   "execution_count": 3,
   "metadata": {},
   "outputs": [
    {
     "ename": "MissingOptionalLibraryError",
     "evalue": "\"The 'qiskit-ibmq-provider' library is required to use 'IBMQ provider'. You can install it with 'pip install qiskit-ibmq-provider'.\"",
     "output_type": "error",
     "traceback": [
      "\u001b[0;31m---------------------------------------------------------------------------\u001b[0m",
      "\u001b[0;31mImportError\u001b[0m                               Traceback (most recent call last)",
      "File \u001b[0;32m~/.local/lib/python3.10/site-packages/qiskit/__init__.py:169\u001b[0m, in \u001b[0;36mIBMQWrapper.__getattr__\u001b[0;34m(self, attr)\u001b[0m\n\u001b[1;32m    168\u001b[0m \u001b[39mtry\u001b[39;00m:\n\u001b[0;32m--> 169\u001b[0m     \u001b[39mfrom\u001b[39;00m \u001b[39mqiskit\u001b[39;00m\u001b[39m.\u001b[39;00m\u001b[39mproviders\u001b[39;00m \u001b[39mimport\u001b[39;00m ibmq\n\u001b[1;32m    171\u001b[0m     \u001b[39mself\u001b[39m\u001b[39m.\u001b[39mibmq \u001b[39m=\u001b[39m ibmq\u001b[39m.\u001b[39mIBMQ\n",
      "\u001b[0;31mImportError\u001b[0m: cannot import name 'ibmq' from 'qiskit.providers' (/home/codespace/.local/lib/python3.10/site-packages/qiskit/providers/__init__.py)",
      "\nThe above exception was the direct cause of the following exception:\n",
      "\u001b[0;31mMissingOptionalLibraryError\u001b[0m               Traceback (most recent call last)",
      "\u001b[1;32m/workspaces/quantum-computing-fundamentals-2833097/chapter_8_challenge.ipynb Cell 3\u001b[0m line \u001b[0;36m3\n\u001b[1;32m      <a href='vscode-notebook-cell://codespaces%2Bideal-xylophone-4jjxgxg69673jgw9/workspaces/quantum-computing-fundamentals-2833097/chapter_8_challenge.ipynb#W2sdnNjb2RlLXJlbW90ZQ%3D%3D?line=0'>1</a>\u001b[0m \u001b[39mfrom\u001b[39;00m \u001b[39mqiskit_ibm_runtime\u001b[39;00m \u001b[39mimport\u001b[39;00m QiskitRuntimeService\n\u001b[1;32m      <a href='vscode-notebook-cell://codespaces%2Bideal-xylophone-4jjxgxg69673jgw9/workspaces/quantum-computing-fundamentals-2833097/chapter_8_challenge.ipynb#W2sdnNjb2RlLXJlbW90ZQ%3D%3D?line=1'>2</a>\u001b[0m \u001b[39mfrom\u001b[39;00m \u001b[39mqiskit\u001b[39;00m\u001b[39m.\u001b[39;00m\u001b[39mtools\u001b[39;00m\u001b[39m.\u001b[39;00m\u001b[39mmonitor\u001b[39;00m \u001b[39mimport\u001b[39;00m job_monitor\n\u001b[0;32m----> <a href='vscode-notebook-cell://codespaces%2Bideal-xylophone-4jjxgxg69673jgw9/workspaces/quantum-computing-fundamentals-2833097/chapter_8_challenge.ipynb#W2sdnNjb2RlLXJlbW90ZQ%3D%3D?line=2'>3</a>\u001b[0m IBMQ\u001b[39m.\u001b[39;49msave_account(\u001b[39m'\u001b[39m\u001b[39m<INSERT YOUR IBM QUANTUM API KEY>\u001b[39m\u001b[39m'\u001b[39m)\n\u001b[1;32m      <a href='vscode-notebook-cell://codespaces%2Bideal-xylophone-4jjxgxg69673jgw9/workspaces/quantum-computing-fundamentals-2833097/chapter_8_challenge.ipynb#W2sdnNjb2RlLXJlbW90ZQ%3D%3D?line=3'>4</a>\u001b[0m provider \u001b[39m=\u001b[39m IBMQ\u001b[39m.\u001b[39mload_account()\n",
      "File \u001b[0;32m~/.local/lib/python3.10/site-packages/qiskit/__init__.py:183\u001b[0m, in \u001b[0;36mIBMQWrapper.__getattr__\u001b[0;34m(self, attr)\u001b[0m\n\u001b[1;32m    172\u001b[0m         warnings\u001b[39m.\u001b[39mwarn(\n\u001b[1;32m    173\u001b[0m             \u001b[39m\"\u001b[39m\u001b[39mThe qiskit.IBMQ entrypoint and the qiskit-ibmq-provider package (\u001b[39m\u001b[39m\"\u001b[39m\n\u001b[1;32m    174\u001b[0m             \u001b[39m\"\u001b[39m\u001b[39maccessible from \u001b[39m\u001b[39m'\u001b[39m\u001b[39mqiskit.providers.ibmq`) are deprecated and will be removed \u001b[39m\u001b[39m\"\u001b[39m\n\u001b[0;32m   (...)\u001b[0m\n\u001b[1;32m    180\u001b[0m             stacklevel\u001b[39m=\u001b[39m\u001b[39m2\u001b[39m,\n\u001b[1;32m    181\u001b[0m         )\n\u001b[1;32m    182\u001b[0m     \u001b[39mexcept\u001b[39;00m \u001b[39mImportError\u001b[39;00m \u001b[39mas\u001b[39;00m ex:\n\u001b[0;32m--> 183\u001b[0m         \u001b[39mraise\u001b[39;00m MissingOptionalLibraryError(\n\u001b[1;32m    184\u001b[0m             \u001b[39m\"\u001b[39m\u001b[39mqiskit-ibmq-provider\u001b[39m\u001b[39m\"\u001b[39m, \u001b[39m\"\u001b[39m\u001b[39mIBMQ provider\u001b[39m\u001b[39m\"\u001b[39m, \u001b[39m\"\u001b[39m\u001b[39mpip install qiskit-ibmq-provider\u001b[39m\u001b[39m\"\u001b[39m\n\u001b[1;32m    185\u001b[0m         ) \u001b[39mfrom\u001b[39;00m \u001b[39mex\u001b[39;00m\n\u001b[1;32m    186\u001b[0m \u001b[39mreturn\u001b[39;00m \u001b[39mgetattr\u001b[39m(\u001b[39mself\u001b[39m\u001b[39m.\u001b[39mibmq, attr)\n",
      "\u001b[0;31mMissingOptionalLibraryError\u001b[0m: \"The 'qiskit-ibmq-provider' library is required to use 'IBMQ provider'. You can install it with 'pip install qiskit-ibmq-provider'.\""
     ]
    }
   ],
   "source": [
    "from qiskit_ibm_runtime import QiskitRuntimeService\n",
    "from qiskit.tools.monitor import job_monitor\n",
    "IBMQ.save_account('<INSERT YOUR IBM QUANTUM API KEY>')\n",
    "provider = IBMQ.load_account()"
   ]
  },
  {
   "cell_type": "code",
   "execution_count": null,
   "metadata": {},
   "outputs": [],
   "source": [
    "qcomp = provider.get_backend('ibmq_qasm_simulator')\n",
    "job = execute(circuit, backend=qcomp)\n",
    "job_monitor(job)"
   ]
  },
  {
   "cell_type": "code",
   "execution_count": null,
   "metadata": {},
   "outputs": [],
   "source": [
    "qcomp_result = job.result()\n",
    "plot_histogram(qcomp_result.get_counts())"
   ]
  }
 ],
 "metadata": {
  "kernelspec": {
   "display_name": "Python 3.10.7 64-bit",
   "language": "python",
   "name": "python3"
  },
  "language_info": {
   "codemirror_mode": {
    "name": "ipython",
    "version": 3
   },
   "file_extension": ".py",
   "mimetype": "text/x-python",
   "name": "python",
   "nbconvert_exporter": "python",
   "pygments_lexer": "ipython3",
   "version": "3.10.8"
  },
  "orig_nbformat": 4,
  "vscode": {
   "interpreter": {
    "hash": "7451cdb0a701b6010b0e29755e2be0cb0d301ff3c327f5891a5fe5973a244f76"
   }
  }
 },
 "nbformat": 4,
 "nbformat_minor": 2
}
