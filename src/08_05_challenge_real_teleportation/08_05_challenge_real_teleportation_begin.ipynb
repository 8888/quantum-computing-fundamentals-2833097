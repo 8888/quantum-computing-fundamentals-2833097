{
 "cells": [
  {
   "cell_type": "code",
   "execution_count": null,
   "metadata": {},
   "outputs": [],
   "source": []
  }
 ],
 "metadata": {
  "kernelspec": {
   "display_name": "Python 3.10.7 64-bit",
   "language": "python",
   "name": "python3"
  },
  "language_info": {
   "name": "python",
   "version": "3.10.7"
  },
  "orig_nbformat": 4,
  "vscode": {
   "interpreter": {
    "hash": "7451cdb0a701b6010b0e29755e2be0cb0d301ff3c327f5891a5fe5973a244f76"
   }
  }
 },
 "nbformat": 4,
 "nbformat_minor": 2
}
